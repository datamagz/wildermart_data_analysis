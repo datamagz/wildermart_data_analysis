{
 "cells": [
  {
   "cell_type": "markdown",
   "metadata": {},
   "source": [
    "# **Wildermart**"
   ]
  },
  {
   "cell_type": "markdown",
   "metadata": {},
   "source": [
    "#### **Load Library**"
   ]
  },
  {
   "cell_type": "code",
   "execution_count": 1,
   "metadata": {},
   "outputs": [
    {
     "name": "stderr",
     "output_type": "stream",
     "text": [
      "-- \u001b[1mAttaching packages\u001b[22m --------------------------------------- tidyverse 1.3.1 --\n",
      "\n",
      "\u001b[32mv\u001b[39m \u001b[34mggplot2\u001b[39m 3.3.5     \u001b[32mv\u001b[39m \u001b[34mpurrr  \u001b[39m 0.3.4\n",
      "\u001b[32mv\u001b[39m \u001b[34mtibble \u001b[39m 3.1.6     \u001b[32mv\u001b[39m \u001b[34mdplyr  \u001b[39m 1.0.7\n",
      "\u001b[32mv\u001b[39m \u001b[34mtidyr  \u001b[39m 1.1.4     \u001b[32mv\u001b[39m \u001b[34mstringr\u001b[39m 1.4.0\n",
      "\u001b[32mv\u001b[39m \u001b[34mreadr  \u001b[39m 2.1.2     \u001b[32mv\u001b[39m \u001b[34mforcats\u001b[39m 0.5.1\n",
      "\n",
      "-- \u001b[1mConflicts\u001b[22m ------------------------------------------ tidyverse_conflicts() --\n",
      "\u001b[31mx\u001b[39m \u001b[34mdplyr\u001b[39m::\u001b[32mfilter()\u001b[39m masks \u001b[34mstats\u001b[39m::filter()\n",
      "\u001b[31mx\u001b[39m \u001b[34mdplyr\u001b[39m::\u001b[32mlag()\u001b[39m    masks \u001b[34mstats\u001b[39m::lag()\n",
      "\n",
      "\n",
      "Attaching package: 'lubridate'\n",
      "\n",
      "\n",
      "The following objects are masked from 'package:base':\n",
      "\n",
      "    date, intersect, setdiff, union\n",
      "\n",
      "\n"
     ]
    }
   ],
   "source": [
    "library(readxl)\n",
    "library(tidyverse)\n",
    "library(lubridate)\n",
    "library(DataExplorer)"
   ]
  },
  {
   "cell_type": "markdown",
   "metadata": {},
   "source": [
    "## **A. Explore Inventory**"
   ]
  },
  {
   "cell_type": "markdown",
   "metadata": {},
   "source": [
    "#### **Data Inspections**"
   ]
  },
  {
   "cell_type": "code",
   "execution_count": 2,
   "metadata": {},
   "outputs": [],
   "source": [
    "inventory <- read_excel(\"C://Users//PC Dekstop//OneDrive - Universitas Terbuka//Desktop//Wildermart//zom_inventory_1feb.xls\", skip=1)"
   ]
  },
  {
   "cell_type": "code",
   "execution_count": 3,
   "metadata": {},
   "outputs": [
    {
     "data": {
      "text/html": [
       "<table class=\"dataframe\">\n",
       "<caption>A tibble: 6 × 15</caption>\n",
       "<thead>\n",
       "\t<tr><th scope=col>item_id</th><th scope=col>sku</th><th scope=col>item_name</th><th scope=col>category_id</th><th scope=col>category_name</th><th scope=col>unit</th><th scope=col>is_combo_product</th><th scope=col>quantity_purchased</th><th scope=col>quantity_sold</th><th scope=col>quantity_ordered</th><th scope=col>quantity_demanded</th><th scope=col>quantity_available</th><th scope=col>quantity_available_for_sale</th><th scope=col>reorder_level</th><th scope=col>Status</th></tr>\n",
       "\t<tr><th scope=col>&lt;chr&gt;</th><th scope=col>&lt;chr&gt;</th><th scope=col>&lt;chr&gt;</th><th scope=col>&lt;chr&gt;</th><th scope=col>&lt;chr&gt;</th><th scope=col>&lt;chr&gt;</th><th scope=col>&lt;chr&gt;</th><th scope=col>&lt;dbl&gt;</th><th scope=col>&lt;dbl&gt;</th><th scope=col>&lt;dbl&gt;</th><th scope=col>&lt;dbl&gt;</th><th scope=col>&lt;dbl&gt;</th><th scope=col>&lt;dbl&gt;</th><th scope=col>&lt;dbl&gt;</th><th scope=col>&lt;chr&gt;</th></tr>\n",
       "</thead>\n",
       "<tbody>\n",
       "\t<tr><td>449091000000415837</td><td>BASO000890</td><td>10 Grains &amp; Seeds Sourdough Sandwich Loaf</td><td>-1</td><td>Others</td><td>Pcs</td><td>false</td><td> 6</td><td> 4</td><td>0</td><td>4</td><td> 2</td><td>-2</td><td> 1</td><td><span style=white-space:pre-wrap>active  </span></td></tr>\n",
       "\t<tr><td>449091000000413242</td><td>PASN000501</td><td>100% Wheat Golgappa                      </td><td>-1</td><td>Others</td><td>Pcs</td><td>false</td><td>25</td><td>19</td><td>3</td><td>7</td><td> 6</td><td>-1</td><td> 1</td><td>active  </td></tr>\n",
       "\t<tr><td>449091000002649839</td><td>NA        </td><td>100% Wheat Golgappa/Default Title        </td><td>-1</td><td>Others</td><td>NA </td><td>false</td><td> 0</td><td> 0</td><td>0</td><td>0</td><td> 0</td><td> 0</td><td>NA</td><td>inactive</td></tr>\n",
       "\t<tr><td>449091000001757804</td><td>PACH001264</td><td>41% Mylk Couverture Chocolate            </td><td>-1</td><td>Others</td><td>pcs</td><td>false</td><td> 7</td><td> 1</td><td>0</td><td>0</td><td> 6</td><td> 6</td><td>NA</td><td>active  </td></tr>\n",
       "\t<tr><td>449091000000413570</td><td>PACH000565</td><td>49% Crunchy Peanut Butter Chocolate Bar  </td><td>-1</td><td>Others</td><td>Pcs</td><td>false</td><td>15</td><td> 3</td><td>0</td><td>2</td><td>12</td><td>10</td><td> 1</td><td>active  </td></tr>\n",
       "\t<tr><td>449091000000415774</td><td>BASO000883</td><td>5 Seeds Sourdough Bread                  </td><td>-1</td><td>Others</td><td>Pcs</td><td>false</td><td>26</td><td> 5</td><td>0</td><td>1</td><td>21</td><td>20</td><td> 1</td><td>active  </td></tr>\n",
       "</tbody>\n",
       "</table>\n"
      ],
      "text/latex": [
       "A tibble: 6 × 15\n",
       "\\begin{tabular}{lllllllllllllll}\n",
       " item\\_id & sku & item\\_name & category\\_id & category\\_name & unit & is\\_combo\\_product & quantity\\_purchased & quantity\\_sold & quantity\\_ordered & quantity\\_demanded & quantity\\_available & quantity\\_available\\_for\\_sale & reorder\\_level & Status\\\\\n",
       " <chr> & <chr> & <chr> & <chr> & <chr> & <chr> & <chr> & <dbl> & <dbl> & <dbl> & <dbl> & <dbl> & <dbl> & <dbl> & <chr>\\\\\n",
       "\\hline\n",
       "\t 449091000000415837 & BASO000890 & 10 Grains \\& Seeds Sourdough Sandwich Loaf & -1 & Others & Pcs & false &  6 &  4 & 0 & 4 &  2 & -2 &  1 & active  \\\\\n",
       "\t 449091000000413242 & PASN000501 & 100\\% Wheat Golgappa                       & -1 & Others & Pcs & false & 25 & 19 & 3 & 7 &  6 & -1 &  1 & active  \\\\\n",
       "\t 449091000002649839 & NA         & 100\\% Wheat Golgappa/Default Title         & -1 & Others & NA  & false &  0 &  0 & 0 & 0 &  0 &  0 & NA & inactive\\\\\n",
       "\t 449091000001757804 & PACH001264 & 41\\% Mylk Couverture Chocolate             & -1 & Others & pcs & false &  7 &  1 & 0 & 0 &  6 &  6 & NA & active  \\\\\n",
       "\t 449091000000413570 & PACH000565 & 49\\% Crunchy Peanut Butter Chocolate Bar   & -1 & Others & Pcs & false & 15 &  3 & 0 & 2 & 12 & 10 &  1 & active  \\\\\n",
       "\t 449091000000415774 & BASO000883 & 5 Seeds Sourdough Bread                   & -1 & Others & Pcs & false & 26 &  5 & 0 & 1 & 21 & 20 &  1 & active  \\\\\n",
       "\\end{tabular}\n"
      ],
      "text/markdown": [
       "\n",
       "A tibble: 6 × 15\n",
       "\n",
       "| item_id &lt;chr&gt; | sku &lt;chr&gt; | item_name &lt;chr&gt; | category_id &lt;chr&gt; | category_name &lt;chr&gt; | unit &lt;chr&gt; | is_combo_product &lt;chr&gt; | quantity_purchased &lt;dbl&gt; | quantity_sold &lt;dbl&gt; | quantity_ordered &lt;dbl&gt; | quantity_demanded &lt;dbl&gt; | quantity_available &lt;dbl&gt; | quantity_available_for_sale &lt;dbl&gt; | reorder_level &lt;dbl&gt; | Status &lt;chr&gt; |\n",
       "|---|---|---|---|---|---|---|---|---|---|---|---|---|---|---|\n",
       "| 449091000000415837 | BASO000890 | 10 Grains &amp; Seeds Sourdough Sandwich Loaf | -1 | Others | Pcs | false |  6 |  4 | 0 | 4 |  2 | -2 |  1 | active   |\n",
       "| 449091000000413242 | PASN000501 | 100% Wheat Golgappa                       | -1 | Others | Pcs | false | 25 | 19 | 3 | 7 |  6 | -1 |  1 | active   |\n",
       "| 449091000002649839 | NA         | 100% Wheat Golgappa/Default Title         | -1 | Others | NA  | false |  0 |  0 | 0 | 0 |  0 |  0 | NA | inactive |\n",
       "| 449091000001757804 | PACH001264 | 41% Mylk Couverture Chocolate             | -1 | Others | pcs | false |  7 |  1 | 0 | 0 |  6 |  6 | NA | active   |\n",
       "| 449091000000413570 | PACH000565 | 49% Crunchy Peanut Butter Chocolate Bar   | -1 | Others | Pcs | false | 15 |  3 | 0 | 2 | 12 | 10 |  1 | active   |\n",
       "| 449091000000415774 | BASO000883 | 5 Seeds Sourdough Bread                   | -1 | Others | Pcs | false | 26 |  5 | 0 | 1 | 21 | 20 |  1 | active   |\n",
       "\n"
      ],
      "text/plain": [
       "  item_id            sku        item_name                                \n",
       "1 449091000000415837 BASO000890 10 Grains & Seeds Sourdough Sandwich Loaf\n",
       "2 449091000000413242 PASN000501 100% Wheat Golgappa                      \n",
       "3 449091000002649839 NA         100% Wheat Golgappa/Default Title        \n",
       "4 449091000001757804 PACH001264 41% Mylk Couverture Chocolate            \n",
       "5 449091000000413570 PACH000565 49% Crunchy Peanut Butter Chocolate Bar  \n",
       "6 449091000000415774 BASO000883 5 Seeds Sourdough Bread                  \n",
       "  category_id category_name unit is_combo_product quantity_purchased\n",
       "1 -1          Others        Pcs  false             6                \n",
       "2 -1          Others        Pcs  false            25                \n",
       "3 -1          Others        NA   false             0                \n",
       "4 -1          Others        pcs  false             7                \n",
       "5 -1          Others        Pcs  false            15                \n",
       "6 -1          Others        Pcs  false            26                \n",
       "  quantity_sold quantity_ordered quantity_demanded quantity_available\n",
       "1  4            0                4                  2                \n",
       "2 19            3                7                  6                \n",
       "3  0            0                0                  0                \n",
       "4  1            0                0                  6                \n",
       "5  3            0                2                 12                \n",
       "6  5            0                1                 21                \n",
       "  quantity_available_for_sale reorder_level Status  \n",
       "1 -2                           1            active  \n",
       "2 -1                           1            active  \n",
       "3  0                          NA            inactive\n",
       "4  6                          NA            active  \n",
       "5 10                           1            active  \n",
       "6 20                           1            active  "
      ]
     },
     "metadata": {},
     "output_type": "display_data"
    }
   ],
   "source": [
    "head(inventory)"
   ]
  },
  {
   "cell_type": "code",
   "execution_count": 4,
   "metadata": {},
   "outputs": [
    {
     "name": "stdout",
     "output_type": "stream",
     "text": [
      "tibble [1,494 x 15] (S3: tbl_df/tbl/data.frame)\n",
      " $ item_id                    : chr [1:1494] \"449091000000415837\" \"449091000000413242\" \"449091000002649839\" \"449091000001757804\" ...\n",
      " $ sku                        : chr [1:1494] \"BASO000890\" \"PASN000501\" NA \"PACH001264\" ...\n",
      " $ item_name                  : chr [1:1494] \"10 Grains & Seeds Sourdough Sandwich Loaf\" \"100% Wheat Golgappa\" \"100% Wheat Golgappa/Default Title\" \"41% Mylk Couverture Chocolate\" ...\n",
      " $ category_id                : chr [1:1494] \"-1\" \"-1\" \"-1\" \"-1\" ...\n",
      " $ category_name              : chr [1:1494] \"Others\" \"Others\" \"Others\" \"Others\" ...\n",
      " $ unit                       : chr [1:1494] \"Pcs\" \"Pcs\" NA \"pcs\" ...\n",
      " $ is_combo_product           : chr [1:1494] \"false\" \"false\" \"false\" \"false\" ...\n",
      " $ quantity_purchased         : num [1:1494] 6 25 0 7 15 26 2 4 19 11 ...\n",
      " $ quantity_sold              : num [1:1494] 4 19 0 1 3 5 1 2 4 11 ...\n",
      " $ quantity_ordered           : num [1:1494] 0 3 0 0 0 0 0 0 0 0 ...\n",
      " $ quantity_demanded          : num [1:1494] 4 7 0 0 2 1 0 1 0 3 ...\n",
      " $ quantity_available         : num [1:1494] 2 6 0 6 12 21 1 2 15 0 ...\n",
      " $ quantity_available_for_sale: num [1:1494] -2 -1 0 6 10 20 1 1 15 -3 ...\n",
      " $ reorder_level              : num [1:1494] 1 1 NA NA 1 1 NA NA NA 1 ...\n",
      " $ Status                     : chr [1:1494] \"active\" \"active\" \"inactive\" \"active\" ...\n"
     ]
    }
   ],
   "source": [
    "str(inventory)"
   ]
  },
  {
   "cell_type": "code",
   "execution_count": 5,
   "metadata": {},
   "outputs": [
    {
     "data": {
      "text/html": [
       "<table class=\"dataframe\">\n",
       "<caption>A tibble: 1 × 9</caption>\n",
       "<thead>\n",
       "\t<tr><th scope=col>rows</th><th scope=col>columns</th><th scope=col>discrete_columns</th><th scope=col>continuous_columns</th><th scope=col>all_missing_columns</th><th scope=col>total_missing_values</th><th scope=col>complete_rows</th><th scope=col>total_observations</th><th scope=col>memory_usage</th></tr>\n",
       "\t<tr><th scope=col>&lt;int&gt;</th><th scope=col>&lt;int&gt;</th><th scope=col>&lt;int&gt;</th><th scope=col>&lt;int&gt;</th><th scope=col>&lt;int&gt;</th><th scope=col>&lt;int&gt;</th><th scope=col>&lt;int&gt;</th><th scope=col>&lt;int&gt;</th><th scope=col>&lt;dbl&gt;</th></tr>\n",
       "</thead>\n",
       "<tbody>\n",
       "\t<tr><td>1494</td><td>15</td><td>8</td><td>7</td><td>0</td><td>545</td><td>1007</td><td>22410</td><td>514656</td></tr>\n",
       "</tbody>\n",
       "</table>\n"
      ],
      "text/latex": [
       "A tibble: 1 × 9\n",
       "\\begin{tabular}{lllllllll}\n",
       " rows & columns & discrete\\_columns & continuous\\_columns & all\\_missing\\_columns & total\\_missing\\_values & complete\\_rows & total\\_observations & memory\\_usage\\\\\n",
       " <int> & <int> & <int> & <int> & <int> & <int> & <int> & <int> & <dbl>\\\\\n",
       "\\hline\n",
       "\t 1494 & 15 & 8 & 7 & 0 & 545 & 1007 & 22410 & 514656\\\\\n",
       "\\end{tabular}\n"
      ],
      "text/markdown": [
       "\n",
       "A tibble: 1 × 9\n",
       "\n",
       "| rows &lt;int&gt; | columns &lt;int&gt; | discrete_columns &lt;int&gt; | continuous_columns &lt;int&gt; | all_missing_columns &lt;int&gt; | total_missing_values &lt;int&gt; | complete_rows &lt;int&gt; | total_observations &lt;int&gt; | memory_usage &lt;dbl&gt; |\n",
       "|---|---|---|---|---|---|---|---|---|\n",
       "| 1494 | 15 | 8 | 7 | 0 | 545 | 1007 | 22410 | 514656 |\n",
       "\n"
      ],
      "text/plain": [
       "  rows columns discrete_columns continuous_columns all_missing_columns\n",
       "1 1494 15      8                7                  0                  \n",
       "  total_missing_values complete_rows total_observations memory_usage\n",
       "1 545                  1007          22410              514656      "
      ]
     },
     "metadata": {},
     "output_type": "display_data"
    }
   ],
   "source": [
    "introduce(inventory)"
   ]
  },
  {
   "cell_type": "code",
   "execution_count": 6,
   "metadata": {},
   "outputs": [
    {
     "data": {
      "image/png": "[encoded data removed]",
      "text/plain": [
       "plot without title"
      ]
     },
     "metadata": {
      "image/png": {
       "height": 420,
       "width": 420
      }
     },
     "output_type": "display_data"
    }
   ],
   "source": [
    "plot_intro(inventory)"
   ]
  },
  {
   "cell_type": "markdown",
   "metadata": {},
   "source": [
    "Noticed there are 2.4 % of total missing Observations and there is no missing column. The missing observations are not too significant, so we can continue to analyse the data."
   ]
  },
  {
   "cell_type": "markdown",
   "metadata": {},
   "source": [
    "#### **Analyzing Data**"
   ]
  },
  {
   "cell_type": "markdown",
   "metadata": {},
   "source": [
    "##### **1) List of Top demanded products**"
   ]
  },
  {
   "cell_type": "code",
   "execution_count": 7,
   "metadata": {},
   "outputs": [
    {
     "name": "stdout",
     "output_type": "stream",
     "text": [
      "\u001b[90m# A tibble: 1,494 x 3\u001b[39m\n",
      "   sku        item_name                      quantity_demanded\n",
      "   \u001b[3m\u001b[90m<chr>\u001b[39m\u001b[23m      \u001b[3m\u001b[90m<chr>\u001b[39m\u001b[23m                                      \u001b[3m\u001b[90m<dbl>\u001b[39m\u001b[23m\n",
      "\u001b[90m 1\u001b[39m FVBK000130 Organic Lemon                               206 \n",
      "\u001b[90m 2\u001b[39m FVBK000009 Organic Ash Gourd                           200.\n",
      "\u001b[90m 3\u001b[39m FVBK000226 Organic Yelakki Banana                      176.\n",
      "\u001b[90m 4\u001b[39m FVBK000095 Organic Ginger                              175.\n",
      "\u001b[90m 5\u001b[39m FVBK000153 Organic Onion                               174 \n",
      "\u001b[90m 6\u001b[39m FVBK000215 Organic Nati Tomatoes                       173 \n",
      "\u001b[90m 7\u001b[39m FVBK000071 Organic Cucumber                            168.\n",
      "\u001b[90m 8\u001b[39m FVBK000172 Organic Pumpkin                             163 \n",
      "\u001b[90m 9\u001b[39m FVBK000170 Organic Potato                              144 \n",
      "\u001b[90m10\u001b[39m FVBK000099 Organic Green Chilli                        132 \n",
      "\u001b[90m11\u001b[39m FVBK000225 Organic Yam                                 129.\n",
      "\u001b[90m12\u001b[39m FVBK000022 Organic Beetroot                            126.\n",
      "\u001b[90m13\u001b[39m FVBK000127 Organic Ladies Finger / Bhindi              126.\n",
      "\u001b[90m14\u001b[39m FVBK000154 Organic Ooty Carrot                         123 \n",
      "\u001b[90m15\u001b[39m FVBK000158 Organic Papaya                              122.\n",
      "\u001b[90m16\u001b[39m FVBK000102 Organic Raw Banana                          119 \n",
      "\u001b[90m17\u001b[39m STBK000197 Organic Sona Masuri Rice                    110 \n",
      "\u001b[90m18\u001b[39m FVBK000012 Organic Avocado                             102 \n",
      "\u001b[90m19\u001b[39m FVBK000200 Organic Spinach / Palak                      96 \n",
      "\u001b[90m20\u001b[39m FVBK000149 Organic Nati Beans                           91 \n",
      "\u001b[90m# ... with 1,474 more rows\u001b[39m\n"
     ]
    }
   ],
   "source": [
    "top_demand <- inventory %>% select(sku,item_name,quantity_demanded)%>% arrange(desc(quantity_demanded)) %>% print(n=20)"
   ]
  },
  {
   "cell_type": "markdown",
   "metadata": {},
   "source": [
    "*We noticed that demand market in organic fruit and vegetables products are significant.*"
   ]
  },
  {
   "cell_type": "code",
   "execution_count": 8,
   "metadata": {},
   "outputs": [
    {
     "data": {
      "text/html": [
       "<style>\n",
       ".list-inline {list-style: none; margin:0; padding: 0}\n",
       ".list-inline>li {display: inline-block}\n",
       ".list-inline>li:not(:last-child)::after {content: \"\\00b7\"; padding: 0 .5ex}\n",
       "</style>\n",
       "<ol class=list-inline><li>'item_id'</li><li>'sku'</li><li>'item_name'</li><li>'category_id'</li><li>'category_name'</li><li>'unit'</li><li>'is_combo_product'</li><li>'quantity_purchased'</li><li>'quantity_sold'</li><li>'quantity_ordered'</li><li>'quantity_demanded'</li><li>'quantity_available'</li><li>'quantity_available_for_sale'</li><li>'reorder_level'</li><li>'Status'</li></ol>\n"
      ],
      "text/latex": [
       "\\begin{enumerate*}\n",
       "\\item 'item\\_id'\n",
       "\\item 'sku'\n",
       "\\item 'item\\_name'\n",
       "\\item 'category\\_id'\n",
       "\\item 'category\\_name'\n",
       "\\item 'unit'\n",
       "\\item 'is\\_combo\\_product'\n",
       "\\item 'quantity\\_purchased'\n",
       "\\item 'quantity\\_sold'\n",
       "\\item 'quantity\\_ordered'\n",
       "\\item 'quantity\\_demanded'\n",
       "\\item 'quantity\\_available'\n",
       "\\item 'quantity\\_available\\_for\\_sale'\n",
       "\\item 'reorder\\_level'\n",
       "\\item 'Status'\n",
       "\\end{enumerate*}\n"
      ],
      "text/markdown": [
       "1. 'item_id'\n",
       "2. 'sku'\n",
       "3. 'item_name'\n",
       "4. 'category_id'\n",
       "5. 'category_name'\n",
       "6. 'unit'\n",
       "7. 'is_combo_product'\n",
       "8. 'quantity_purchased'\n",
       "9. 'quantity_sold'\n",
       "10. 'quantity_ordered'\n",
       "11. 'quantity_demanded'\n",
       "12. 'quantity_available'\n",
       "13. 'quantity_available_for_sale'\n",
       "14. 'reorder_level'\n",
       "15. 'Status'\n",
       "\n",
       "\n"
      ],
      "text/plain": [
       " [1] \"item_id\"                     \"sku\"                        \n",
       " [3] \"item_name\"                   \"category_id\"                \n",
       " [5] \"category_name\"               \"unit\"                       \n",
       " [7] \"is_combo_product\"            \"quantity_purchased\"         \n",
       " [9] \"quantity_sold\"               \"quantity_ordered\"           \n",
       "[11] \"quantity_demanded\"           \"quantity_available\"         \n",
       "[13] \"quantity_available_for_sale\" \"reorder_level\"              \n",
       "[15] \"Status\"                     "
      ]
     },
     "metadata": {},
     "output_type": "display_data"
    }
   ],
   "source": [
    "colnames(inventory)"
   ]
  },
  {
   "cell_type": "markdown",
   "metadata": {},
   "source": [
    "##### **2) Supply and Demand level**"
   ]
  },
  {
   "cell_type": "code",
   "execution_count": 9,
   "metadata": {},
   "outputs": [
    {
     "name": "stdout",
     "output_type": "stream",
     "text": [
      "\u001b[90m# A tibble: 1,494 x 4\u001b[39m\n",
      "   sku        item_name                      quantity_demanded quantity_availab~\n",
      "   \u001b[3m\u001b[90m<chr>\u001b[39m\u001b[23m      \u001b[3m\u001b[90m<chr>\u001b[39m\u001b[23m                                      \u001b[3m\u001b[90m<dbl>\u001b[39m\u001b[23m             \u001b[3m\u001b[90m<dbl>\u001b[39m\u001b[23m\n",
      "\u001b[90m 1\u001b[39m FVBK000130 Organic Lemon                               206            -\u001b[31m191\u001b[39m   \n",
      "\u001b[90m 2\u001b[39m FVBK000009 Organic Ash Gourd                           200.            -\u001b[31m28\u001b[39m\u001b[31m.\u001b[39m\u001b[31m1\u001b[39m \n",
      "\u001b[90m 3\u001b[39m FVBK000226 Organic Yelakki Banana                      176.            -\u001b[31m97\u001b[39m\u001b[31m.\u001b[39m\u001b[31m6\u001b[39m \n",
      "\u001b[90m 4\u001b[39m FVBK000095 Organic Ginger                              175.             35.7 \n",
      "\u001b[90m 5\u001b[39m FVBK000153 Organic Onion                               174            -\u001b[31m129\u001b[39m\u001b[31m.\u001b[39m  \n",
      "\u001b[90m 6\u001b[39m FVBK000215 Organic Nati Tomatoes                       173            -\u001b[31m116\u001b[39m\u001b[31m.\u001b[39m  \n",
      "\u001b[90m 7\u001b[39m FVBK000071 Organic Cucumber                            168.            -\u001b[31m93\u001b[39m\u001b[31m.\u001b[39m\u001b[31m9\u001b[39m \n",
      "\u001b[90m 8\u001b[39m FVBK000172 Organic Pumpkin                             163              -\u001b[31m7\u001b[39m\u001b[31m.\u001b[39m\u001b[31m4\u001b[39m \n",
      "\u001b[90m 9\u001b[39m FVBK000170 Organic Potato                              144            -\u001b[31m101\u001b[39m\u001b[31m.\u001b[39m  \n",
      "\u001b[90m10\u001b[39m FVBK000099 Organic Green Chilli                        132              63.2 \n",
      "\u001b[90m11\u001b[39m FVBK000225 Organic Yam                                 129.              9.86\n",
      "\u001b[90m12\u001b[39m FVBK000022 Organic Beetroot                            126.            -\u001b[31m69\u001b[39m\u001b[31m.\u001b[39m\u001b[31m6\u001b[39m \n",
      "\u001b[90m13\u001b[39m FVBK000127 Organic Ladies Finger / Bhindi              126.            -\u001b[31m67\u001b[39m\u001b[31m.\u001b[39m\u001b[31m8\u001b[39m \n",
      "\u001b[90m14\u001b[39m FVBK000154 Organic Ooty Carrot                         123             -\u001b[31m45\u001b[39m\u001b[31m.\u001b[39m\u001b[31m7\u001b[39m \n",
      "\u001b[90m15\u001b[39m FVBK000158 Organic Papaya                              122.           -\u001b[31m121\u001b[39m\u001b[31m.\u001b[39m  \n",
      "\u001b[90m16\u001b[39m FVBK000102 Organic Raw Banana                          119              -\u001b[31m7\u001b[39m   \n",
      "\u001b[90m17\u001b[39m STBK000197 Organic Sona Masuri Rice                    110              27.5 \n",
      "\u001b[90m18\u001b[39m FVBK000012 Organic Avocado                             102             -\u001b[31m51\u001b[39m\u001b[31m.\u001b[39m\u001b[31m3\u001b[39m \n",
      "\u001b[90m19\u001b[39m FVBK000200 Organic Spinach / Palak                      96              34   \n",
      "\u001b[90m20\u001b[39m FVBK000149 Organic Nati Beans                           91             -\u001b[31m53\u001b[39m\u001b[31m.\u001b[39m\u001b[31m8\u001b[39m \n",
      "\u001b[90m# ... with 1,474 more rows\u001b[39m\n"
     ]
    }
   ],
   "source": [
    "inventory %>% select(sku,item_name,quantity_demanded,quantity_available_for_sale)%>% arrange(desc(quantity_demanded)) %>% print(n=20)"
   ]
  },
  {
   "cell_type": "markdown",
   "metadata": {},
   "source": [
    "We noticed that the company needs to pay more attention in order to maintain the availability of the products, specially the top demanded products"
   ]
  },
  {
   "cell_type": "markdown",
   "metadata": {},
   "source": [
    "##### **3. List of Top Product Sales**"
   ]
  },
  {
   "cell_type": "code",
   "execution_count": 10,
   "metadata": {},
   "outputs": [
    {
     "name": "stdout",
     "output_type": "stream",
     "text": [
      "\u001b[90m# A tibble: 1,494 x 3\u001b[39m\n",
      "   sku        item_name               quantity_sold\n",
      "   \u001b[3m\u001b[90m<chr>\u001b[39m\u001b[23m      \u001b[3m\u001b[90m<chr>\u001b[39m\u001b[23m                           \u001b[3m\u001b[90m<dbl>\u001b[39m\u001b[23m\n",
      "\u001b[90m 1\u001b[39m FVBK000130 Organic Lemon                    691 \n",
      "\u001b[90m 2\u001b[39m FVBK000158 Organic Papaya                   364.\n",
      "\u001b[90m 3\u001b[39m FVBK000153 Organic Onion                    348.\n",
      "\u001b[90m 4\u001b[39m FVBK000215 Organic Nati Tomatoes            343.\n",
      "\u001b[90m 5\u001b[39m FVBK000221 Organic Watermelon               306 \n",
      "\u001b[90m 6\u001b[39m FVBK000170 Organic Potato                   286.\n",
      "\u001b[90m 7\u001b[39m FVBK000102 Organic Raw Banana               238 \n",
      "\u001b[90m 8\u001b[39m FVBK000226 Organic Yelakki Banana           228.\n",
      "\u001b[90m 9\u001b[39m FVBK000064 Organic Coconut                  216 \n",
      "\u001b[90m10\u001b[39m FVBK000200 Organic Spinach / Palak          202 \n",
      "\u001b[90m# ... with 1,484 more rows\u001b[39m\n"
     ]
    }
   ],
   "source": [
    "inventory %>% select(sku,item_name,quantity_sold) %>% arrange(desc(quantity_sold)) %>% print(n=10)"
   ]
  },
  {
   "cell_type": "markdown",
   "metadata": {},
   "source": [
    "We noticed that Organic Lemon have the best sales achievement compare to the other product and the second best sales achievement is papaya, it means market are demand on fruit is high therefor company need to think how to add more variant of organic fruit products on the shelves."
   ]
  },
  {
   "cell_type": "markdown",
   "metadata": {},
   "source": [
    "##### **4) Order Level**"
   ]
  },
  {
   "cell_type": "code",
   "execution_count": 11,
   "metadata": {},
   "outputs": [
    {
     "data": {
      "text/html": [
       "<table class=\"dataframe\">\n",
       "<caption>A tibble: 6 × 5</caption>\n",
       "<thead>\n",
       "\t<tr><th scope=col>sku</th><th scope=col>item_name</th><th scope=col>quantity_ordered</th><th scope=col>quantity_demanded</th><th scope=col>Status</th></tr>\n",
       "\t<tr><th scope=col>&lt;chr&gt;</th><th scope=col>&lt;chr&gt;</th><th scope=col>&lt;dbl&gt;</th><th scope=col>&lt;dbl&gt;</th><th scope=col>&lt;chr&gt;</th></tr>\n",
       "</thead>\n",
       "<tbody>\n",
       "\t<tr><td>FVBK000130</td><td>Organic Lemon         </td><td>0.2</td><td>206.00</td><td>active</td></tr>\n",
       "\t<tr><td>FVBK000009</td><td>Organic Ash Gourd     </td><td>0.0</td><td>200.25</td><td>active</td></tr>\n",
       "\t<tr><td>FVBK000226</td><td>Organic Yelakki Banana</td><td>4.5</td><td>176.50</td><td>active</td></tr>\n",
       "\t<tr><td>FVBK000095</td><td>Organic Ginger        </td><td>1.4</td><td>175.40</td><td>active</td></tr>\n",
       "\t<tr><td>FVBK000153</td><td>Organic Onion         </td><td>0.4</td><td>174.00</td><td>active</td></tr>\n",
       "\t<tr><td>FVBK000215</td><td>Organic Nati Tomatoes </td><td>0.1</td><td>173.00</td><td>active</td></tr>\n",
       "</tbody>\n",
       "</table>\n"
      ],
      "text/latex": [
       "A tibble: 6 × 5\n",
       "\\begin{tabular}{lllll}\n",
       " sku & item\\_name & quantity\\_ordered & quantity\\_demanded & Status\\\\\n",
       " <chr> & <chr> & <dbl> & <dbl> & <chr>\\\\\n",
       "\\hline\n",
       "\t FVBK000130 & Organic Lemon          & 0.2 & 206.00 & active\\\\\n",
       "\t FVBK000009 & Organic Ash Gourd      & 0.0 & 200.25 & active\\\\\n",
       "\t FVBK000226 & Organic Yelakki Banana & 4.5 & 176.50 & active\\\\\n",
       "\t FVBK000095 & Organic Ginger         & 1.4 & 175.40 & active\\\\\n",
       "\t FVBK000153 & Organic Onion          & 0.4 & 174.00 & active\\\\\n",
       "\t FVBK000215 & Organic Nati Tomatoes  & 0.1 & 173.00 & active\\\\\n",
       "\\end{tabular}\n"
      ],
      "text/markdown": [
       "\n",
       "A tibble: 6 × 5\n",
       "\n",
       "| sku &lt;chr&gt; | item_name &lt;chr&gt; | quantity_ordered &lt;dbl&gt; | quantity_demanded &lt;dbl&gt; | Status &lt;chr&gt; |\n",
       "|---|---|---|---|---|\n",
       "| FVBK000130 | Organic Lemon          | 0.2 | 206.00 | active |\n",
       "| FVBK000009 | Organic Ash Gourd      | 0.0 | 200.25 | active |\n",
       "| FVBK000226 | Organic Yelakki Banana | 4.5 | 176.50 | active |\n",
       "| FVBK000095 | Organic Ginger         | 1.4 | 175.40 | active |\n",
       "| FVBK000153 | Organic Onion          | 0.4 | 174.00 | active |\n",
       "| FVBK000215 | Organic Nati Tomatoes  | 0.1 | 173.00 | active |\n",
       "\n"
      ],
      "text/plain": [
       "  sku        item_name              quantity_ordered quantity_demanded Status\n",
       "1 FVBK000130 Organic Lemon          0.2              206.00            active\n",
       "2 FVBK000009 Organic Ash Gourd      0.0              200.25            active\n",
       "3 FVBK000226 Organic Yelakki Banana 4.5              176.50            active\n",
       "4 FVBK000095 Organic Ginger         1.4              175.40            active\n",
       "5 FVBK000153 Organic Onion          0.4              174.00            active\n",
       "6 FVBK000215 Organic Nati Tomatoes  0.1              173.00            active"
      ]
     },
     "metadata": {},
     "output_type": "display_data"
    }
   ],
   "source": [
    "order_lvl <- inventory %>% select(sku,item_name,quantity_ordered,quantity_demanded,Status) %>% arrange(desc(quantity_demanded))\n",
    "head(order_lvl)"
   ]
  },
  {
   "cell_type": "code",
   "execution_count": 12,
   "metadata": {},
   "outputs": [
    {
     "data": {
      "image/png": "[encoded data removed]",
      "text/plain": [
       "plot without title"
      ]
     },
     "metadata": {
      "image/png": {
       "height": 420,
       "width": 420
      }
     },
     "output_type": "display_data"
    }
   ],
   "source": [
    "order_lvl %>%\n",
    " filter(quantity_ordered >= 16L & quantity_ordered <= 300L & !is.na(quantity_ordered)) %>%\n",
    " filter(!is.na(quantity_demanded)) %>%\n",
    " filter(!is.na(Status)) %>%\n",
    " ggplot() +\n",
    "  aes(\n",
    "    x = item_name,\n",
    "    fill = quantity_demanded,\n",
    "    weight = quantity_ordered\n",
    "  ) +\n",
    "  geom_bar() +\n",
    "  scale_fill_gradient(low = \"#EC2222\", high = \"#0B85E3\") +\n",
    "  labs(\n",
    "    x = \"Item Name\",\n",
    "    y = \"Count\",\n",
    "    title = \"Order Vs Demand\",\n",
    "    fill = \"Demand Level\"\n",
    "  ) +\n",
    "  coord_flip() +\n",
    "  theme_minimal() +\n",
    "  theme(\n",
    "    plot.title = element_text(size = 22L),\n",
    "    axis.title.y = element_text(size = 14L),\n",
    "    axis.title.x = element_text(size = 14L)\n",
    "  )"
   ]
  },
  {
   "cell_type": "markdown",
   "metadata": {},
   "source": [
    "##### **5. Item Status**"
   ]
  },
  {
   "cell_type": "code",
   "execution_count": 13,
   "metadata": {},
   "outputs": [
    {
     "data": {
      "text/html": [
       "<table class=\"dataframe\">\n",
       "<caption>A tibble: 3 × 2</caption>\n",
       "<thead>\n",
       "\t<tr><th scope=col>Status</th><th scope=col>n</th></tr>\n",
       "\t<tr><th scope=col>&lt;chr&gt;</th><th scope=col>&lt;int&gt;</th></tr>\n",
       "</thead>\n",
       "<tbody>\n",
       "\t<tr><td>active  </td><td>1459</td></tr>\n",
       "\t<tr><td>inactive</td><td>  34</td></tr>\n",
       "\t<tr><td>NA      </td><td>   1</td></tr>\n",
       "</tbody>\n",
       "</table>\n"
      ],
      "text/latex": [
       "A tibble: 3 × 2\n",
       "\\begin{tabular}{ll}\n",
       " Status & n\\\\\n",
       " <chr> & <int>\\\\\n",
       "\\hline\n",
       "\t active   & 1459\\\\\n",
       "\t inactive &   34\\\\\n",
       "\t NA       &    1\\\\\n",
       "\\end{tabular}\n"
      ],
      "text/markdown": [
       "\n",
       "A tibble: 3 × 2\n",
       "\n",
       "| Status &lt;chr&gt; | n &lt;int&gt; |\n",
       "|---|---|\n",
       "| active   | 1459 |\n",
       "| inactive |   34 |\n",
       "| NA       |    1 |\n",
       "\n"
      ],
      "text/plain": [
       "  Status   n   \n",
       "1 active   1459\n",
       "2 inactive   34\n",
       "3 NA          1"
      ]
     },
     "metadata": {},
     "output_type": "display_data"
    }
   ],
   "source": [
    "item_status<- inventory %>% select(sku,item_name,Status) %>% count(Status)\n",
    "head(item_status)"
   ]
  },
  {
   "cell_type": "code",
   "execution_count": 14,
   "metadata": {},
   "outputs": [
    {
     "data": {
      "image/png": "[encoded data removed]",
      "text/plain": [
       "plot without title"
      ]
     },
     "metadata": {
      "image/png": {
       "height": 420,
       "width": 420
      }
     },
     "output_type": "display_data"
    }
   ],
   "source": [
    "item_status %>%\n",
    " filter(n >= 10L & n <= 1460L) %>%\n",
    " ggplot() +\n",
    "  aes(x = Status, fill = Status, weight = n) +\n",
    "  geom_bar() +\n",
    "  scale_fill_manual(\n",
    "    values = c(active = \"#2237AD\",\n",
    "    inactive = \"#D24242\")\n",
    "  ) +\n",
    "  labs(x = \"Status\", y = \"Count\", title = \"Product Status\") +\n",
    "  theme_classic() +\n",
    "  theme(\n",
    "    legend.position = \"none\",\n",
    "    plot.title = element_text(size = 22L),\n",
    "    axis.title.y = element_text(size = 14L),\n",
    "    axis.title.x = element_text(size = 14L)\n",
    "  )"
   ]
  },
  {
   "cell_type": "markdown",
   "metadata": {},
   "source": [
    "We noticed some inactive product. It is essential to analyse to know what is the reason this product become inactive: \n",
    "1) do the supplier still exist?\n",
    "2) do their price are to high?\n",
    "3) Is there any problems on the relationship or agreements?, and many more."
   ]
  },
  {
   "cell_type": "markdown",
   "metadata": {},
   "source": [
    "## **B. Explore Invoice**"
   ]
  },
  {
   "cell_type": "markdown",
   "metadata": {},
   "source": [
    "#### **Data Inspections**"
   ]
  },
  {
   "cell_type": "code",
   "execution_count": 15,
   "metadata": {},
   "outputs": [],
   "source": [
    "invoice <- read_excel(\"C://Users//PC Dekstop//OneDrive - Universitas Terbuka//Desktop//Wildermart//invoice_detailsJan30th.xls\", skip=1)"
   ]
  },
  {
   "cell_type": "code",
   "execution_count": 16,
   "metadata": {},
   "outputs": [
    {
     "data": {
      "text/html": [
       "<table class=\"dataframe\">\n",
       "<caption>A tibble: 6 × 18</caption>\n",
       "<thead>\n",
       "\t<tr><th scope=col>invoice_id</th><th scope=col>status</th><th scope=col>date</th><th scope=col>due_date</th><th scope=col>invoice_number</th><th scope=col>reference_number</th><th scope=col>customer_name</th><th scope=col>bcy_total</th><th scope=col>bcy_balance</th><th scope=col>salesperson_id</th><th scope=col>project_names</th><th scope=col>currency_code</th><th scope=col>currency_id</th><th scope=col>customer_id</th><th scope=col>price_precision</th><th scope=col>is_emailed</th><th scope=col>reminders_sent</th><th scope=col>exchange_rate</th></tr>\n",
       "\t<tr><th scope=col>&lt;chr&gt;</th><th scope=col>&lt;chr&gt;</th><th scope=col>&lt;chr&gt;</th><th scope=col>&lt;chr&gt;</th><th scope=col>&lt;chr&gt;</th><th scope=col>&lt;chr&gt;</th><th scope=col>&lt;chr&gt;</th><th scope=col>&lt;dbl&gt;</th><th scope=col>&lt;dbl&gt;</th><th scope=col>&lt;lgl&gt;</th><th scope=col>&lt;lgl&gt;</th><th scope=col>&lt;chr&gt;</th><th scope=col>&lt;chr&gt;</th><th scope=col>&lt;chr&gt;</th><th scope=col>&lt;dbl&gt;</th><th scope=col>&lt;chr&gt;</th><th scope=col>&lt;dbl&gt;</th><th scope=col>&lt;dbl&gt;</th></tr>\n",
       "</thead>\n",
       "<tbody>\n",
       "\t<tr><td>449091000002396220</td><td>paid</td><td>2021-04-23</td><td>2021-05-23</td><td>INV-000037</td><td>SO-00055</td><td>SHWETA SHETTY</td><td> 948</td><td>0</td><td>NA</td><td>NA</td><td>INR</td><td>449091000000000064</td><td>449091000000958280</td><td>2</td><td>false</td><td>0</td><td>1</td></tr>\n",
       "\t<tr><td>449091000002742339</td><td>paid</td><td>2021-04-23</td><td>2021-04-23</td><td>INV-000049</td><td>SO-00056</td><td>Nakul M Dev  </td><td> 250</td><td>0</td><td>NA</td><td>NA</td><td>INR</td><td>449091000000000064</td><td>449091000000958214</td><td>2</td><td>false</td><td>0</td><td>1</td></tr>\n",
       "\t<tr><td>449091000004203619</td><td>paid</td><td>2021-04-24</td><td>2021-05-24</td><td>INV-000827</td><td>SO-00062</td><td>Shivaraman S </td><td> 141</td><td>0</td><td>NA</td><td>NA</td><td>INR</td><td>449091000000000064</td><td>449091000001915423</td><td>2</td><td>false</td><td>0</td><td>1</td></tr>\n",
       "\t<tr><td>449091000002930579</td><td>paid</td><td>2021-04-25</td><td>2021-05-25</td><td>INV-000213</td><td>SO-00070</td><td>Vanika Khanna</td><td> 467</td><td>0</td><td>NA</td><td>NA</td><td>INR</td><td>449091000000000064</td><td>449091000001915639</td><td>2</td><td>false</td><td>0</td><td>1</td></tr>\n",
       "\t<tr><td>449091000002750598</td><td>paid</td><td>2021-04-27</td><td>2021-05-27</td><td>INV-000065</td><td>SO-00077</td><td>Shweta Thakur</td><td> 415</td><td>0</td><td>NA</td><td>NA</td><td>INR</td><td>449091000000000064</td><td>449091000001915327</td><td>2</td><td>false</td><td>0</td><td>1</td></tr>\n",
       "\t<tr><td>449091000007657215</td><td>paid</td><td>2021-04-29</td><td>2021-05-29</td><td>INV-001620</td><td>NA      </td><td>Meena Naidu  </td><td>4413</td><td>0</td><td>NA</td><td>NA</td><td>INR</td><td>449091000000000064</td><td>449091000001915927</td><td>2</td><td>false</td><td>0</td><td>1</td></tr>\n",
       "</tbody>\n",
       "</table>\n"
      ],
      "text/latex": [
       "A tibble: 6 × 18\n",
       "\\begin{tabular}{llllllllllllllllll}\n",
       " invoice\\_id & status & date & due\\_date & invoice\\_number & reference\\_number & customer\\_name & bcy\\_total & bcy\\_balance & salesperson\\_id & project\\_names & currency\\_code & currency\\_id & customer\\_id & price\\_precision & is\\_emailed & reminders\\_sent & exchange\\_rate\\\\\n",
       " <chr> & <chr> & <chr> & <chr> & <chr> & <chr> & <chr> & <dbl> & <dbl> & <lgl> & <lgl> & <chr> & <chr> & <chr> & <dbl> & <chr> & <dbl> & <dbl>\\\\\n",
       "\\hline\n",
       "\t 449091000002396220 & paid & 2021-04-23 & 2021-05-23 & INV-000037 & SO-00055 & SHWETA SHETTY &  948 & 0 & NA & NA & INR & 449091000000000064 & 449091000000958280 & 2 & false & 0 & 1\\\\\n",
       "\t 449091000002742339 & paid & 2021-04-23 & 2021-04-23 & INV-000049 & SO-00056 & Nakul M Dev   &  250 & 0 & NA & NA & INR & 449091000000000064 & 449091000000958214 & 2 & false & 0 & 1\\\\\n",
       "\t 449091000004203619 & paid & 2021-04-24 & 2021-05-24 & INV-000827 & SO-00062 & Shivaraman S  &  141 & 0 & NA & NA & INR & 449091000000000064 & 449091000001915423 & 2 & false & 0 & 1\\\\\n",
       "\t 449091000002930579 & paid & 2021-04-25 & 2021-05-25 & INV-000213 & SO-00070 & Vanika Khanna &  467 & 0 & NA & NA & INR & 449091000000000064 & 449091000001915639 & 2 & false & 0 & 1\\\\\n",
       "\t 449091000002750598 & paid & 2021-04-27 & 2021-05-27 & INV-000065 & SO-00077 & Shweta Thakur &  415 & 0 & NA & NA & INR & 449091000000000064 & 449091000001915327 & 2 & false & 0 & 1\\\\\n",
       "\t 449091000007657215 & paid & 2021-04-29 & 2021-05-29 & INV-001620 & NA       & Meena Naidu   & 4413 & 0 & NA & NA & INR & 449091000000000064 & 449091000001915927 & 2 & false & 0 & 1\\\\\n",
       "\\end{tabular}\n"
      ],
      "text/markdown": [
       "\n",
       "A tibble: 6 × 18\n",
       "\n",
       "| invoice_id &lt;chr&gt; | status &lt;chr&gt; | date &lt;chr&gt; | due_date &lt;chr&gt; | invoice_number &lt;chr&gt; | reference_number &lt;chr&gt; | customer_name &lt;chr&gt; | bcy_total &lt;dbl&gt; | bcy_balance &lt;dbl&gt; | salesperson_id &lt;lgl&gt; | project_names &lt;lgl&gt; | currency_code &lt;chr&gt; | currency_id &lt;chr&gt; | customer_id &lt;chr&gt; | price_precision &lt;dbl&gt; | is_emailed &lt;chr&gt; | reminders_sent &lt;dbl&gt; | exchange_rate &lt;dbl&gt; |\n",
       "|---|---|---|---|---|---|---|---|---|---|---|---|---|---|---|---|---|---|\n",
       "| 449091000002396220 | paid | 2021-04-23 | 2021-05-23 | INV-000037 | SO-00055 | SHWETA SHETTY |  948 | 0 | NA | NA | INR | 449091000000000064 | 449091000000958280 | 2 | false | 0 | 1 |\n",
       "| 449091000002742339 | paid | 2021-04-23 | 2021-04-23 | INV-000049 | SO-00056 | Nakul M Dev   |  250 | 0 | NA | NA | INR | 449091000000000064 | 449091000000958214 | 2 | false | 0 | 1 |\n",
       "| 449091000004203619 | paid | 2021-04-24 | 2021-05-24 | INV-000827 | SO-00062 | Shivaraman S  |  141 | 0 | NA | NA | INR | 449091000000000064 | 449091000001915423 | 2 | false | 0 | 1 |\n",
       "| 449091000002930579 | paid | 2021-04-25 | 2021-05-25 | INV-000213 | SO-00070 | Vanika Khanna |  467 | 0 | NA | NA | INR | 449091000000000064 | 449091000001915639 | 2 | false | 0 | 1 |\n",
       "| 449091000002750598 | paid | 2021-04-27 | 2021-05-27 | INV-000065 | SO-00077 | Shweta Thakur |  415 | 0 | NA | NA | INR | 449091000000000064 | 449091000001915327 | 2 | false | 0 | 1 |\n",
       "| 449091000007657215 | paid | 2021-04-29 | 2021-05-29 | INV-001620 | NA       | Meena Naidu   | 4413 | 0 | NA | NA | INR | 449091000000000064 | 449091000001915927 | 2 | false | 0 | 1 |\n",
       "\n"
      ],
      "text/plain": [
       "  invoice_id         status date       due_date   invoice_number\n",
       "1 449091000002396220 paid   2021-04-23 2021-05-23 INV-000037    \n",
       "2 449091000002742339 paid   2021-04-23 2021-04-23 INV-000049    \n",
       "3 449091000004203619 paid   2021-04-24 2021-05-24 INV-000827    \n",
       "4 449091000002930579 paid   2021-04-25 2021-05-25 INV-000213    \n",
       "5 449091000002750598 paid   2021-04-27 2021-05-27 INV-000065    \n",
       "6 449091000007657215 paid   2021-04-29 2021-05-29 INV-001620    \n",
       "  reference_number customer_name bcy_total bcy_balance salesperson_id\n",
       "1 SO-00055         SHWETA SHETTY  948      0           NA            \n",
       "2 SO-00056         Nakul M Dev    250      0           NA            \n",
       "3 SO-00062         Shivaraman S   141      0           NA            \n",
       "4 SO-00070         Vanika Khanna  467      0           NA            \n",
       "5 SO-00077         Shweta Thakur  415      0           NA            \n",
       "6 NA               Meena Naidu   4413      0           NA            \n",
       "  project_names currency_code currency_id        customer_id       \n",
       "1 NA            INR           449091000000000064 449091000000958280\n",
       "2 NA            INR           449091000000000064 449091000000958214\n",
       "3 NA            INR           449091000000000064 449091000001915423\n",
       "4 NA            INR           449091000000000064 449091000001915639\n",
       "5 NA            INR           449091000000000064 449091000001915327\n",
       "6 NA            INR           449091000000000064 449091000001915927\n",
       "  price_precision is_emailed reminders_sent exchange_rate\n",
       "1 2               false      0              1            \n",
       "2 2               false      0              1            \n",
       "3 2               false      0              1            \n",
       "4 2               false      0              1            \n",
       "5 2               false      0              1            \n",
       "6 2               false      0              1            "
      ]
     },
     "metadata": {},
     "output_type": "display_data"
    }
   ],
   "source": [
    "head(invoice)"
   ]
  },
  {
   "cell_type": "code",
   "execution_count": 17,
   "metadata": {},
   "outputs": [
    {
     "name": "stdout",
     "output_type": "stream",
     "text": [
      "tibble [1,642 x 18] (S3: tbl_df/tbl/data.frame)\n",
      " $ invoice_id      : chr [1:1642] \"449091000002396220\" \"449091000002742339\" \"449091000004203619\" \"449091000002930579\" ...\n",
      " $ status          : chr [1:1642] \"paid\" \"paid\" \"paid\" \"paid\" ...\n",
      " $ date            : chr [1:1642] \"2021-04-23\" \"2021-04-23\" \"2021-04-24\" \"2021-04-25\" ...\n",
      " $ due_date        : chr [1:1642] \"2021-05-23\" \"2021-04-23\" \"2021-05-24\" \"2021-05-25\" ...\n",
      " $ invoice_number  : chr [1:1642] \"INV-000037\" \"INV-000049\" \"INV-000827\" \"INV-000213\" ...\n",
      " $ reference_number: chr [1:1642] \"SO-00055\" \"SO-00056\" \"SO-00062\" \"SO-00070\" ...\n",
      " $ customer_name   : chr [1:1642] \"SHWETA SHETTY\" \"Nakul M Dev\" \"Shivaraman S\" \"Vanika Khanna\" ...\n",
      " $ bcy_total       : num [1:1642] 948 250 141 467 415 ...\n",
      " $ bcy_balance     : num [1:1642] 0 0 0 0 0 0 0 0 0 0 ...\n",
      " $ salesperson_id  : logi [1:1642] NA NA NA NA NA NA ...\n",
      " $ project_names   : logi [1:1642] NA NA NA NA NA NA ...\n",
      " $ currency_code   : chr [1:1642] \"INR\" \"INR\" \"INR\" \"INR\" ...\n",
      " $ currency_id     : chr [1:1642] \"449091000000000064\" \"449091000000000064\" \"449091000000000064\" \"449091000000000064\" ...\n",
      " $ customer_id     : chr [1:1642] \"449091000000958280\" \"449091000000958214\" \"449091000001915423\" \"449091000001915639\" ...\n",
      " $ price_precision : num [1:1642] 2 2 2 2 2 2 2 2 2 2 ...\n",
      " $ is_emailed      : chr [1:1642] \"false\" \"false\" \"false\" \"false\" ...\n",
      " $ reminders_sent  : num [1:1642] 0 0 0 0 0 0 0 0 0 0 ...\n",
      " $ exchange_rate   : num [1:1642] 1 1 1 1 1 1 1 1 1 1 ...\n"
     ]
    }
   ],
   "source": [
    "str(invoice)"
   ]
  },
  {
   "cell_type": "code",
   "execution_count": 18,
   "metadata": {},
   "outputs": [],
   "source": [
    "invoice$date <- as_date(invoice$date)\n",
    "invoice$due_date <- as_date(invoice$due_date)"
   ]
  },
  {
   "cell_type": "code",
   "execution_count": 19,
   "metadata": {},
   "outputs": [
    {
     "data": {
      "text/html": [
       "'Date'"
      ],
      "text/latex": [
       "'Date'"
      ],
      "text/markdown": [
       "'Date'"
      ],
      "text/plain": [
       "[1] \"Date\""
      ]
     },
     "metadata": {},
     "output_type": "display_data"
    },
    {
     "data": {
      "text/html": [
       "'Date'"
      ],
      "text/latex": [
       "'Date'"
      ],
      "text/markdown": [
       "'Date'"
      ],
      "text/plain": [
       "[1] \"Date\""
      ]
     },
     "metadata": {},
     "output_type": "display_data"
    }
   ],
   "source": [
    "class(invoice$date)\n",
    "class(invoice$due_date) "
   ]
  },
  {
   "cell_type": "code",
   "execution_count": 20,
   "metadata": {},
   "outputs": [
    {
     "data": {
      "text/html": [
       "<table class=\"dataframe\">\n",
       "<caption>A tibble: 1 × 9</caption>\n",
       "<thead>\n",
       "\t<tr><th scope=col>rows</th><th scope=col>columns</th><th scope=col>discrete_columns</th><th scope=col>continuous_columns</th><th scope=col>all_missing_columns</th><th scope=col>total_missing_values</th><th scope=col>complete_rows</th><th scope=col>total_observations</th><th scope=col>memory_usage</th></tr>\n",
       "\t<tr><th scope=col>&lt;int&gt;</th><th scope=col>&lt;int&gt;</th><th scope=col>&lt;int&gt;</th><th scope=col>&lt;int&gt;</th><th scope=col>&lt;int&gt;</th><th scope=col>&lt;int&gt;</th><th scope=col>&lt;int&gt;</th><th scope=col>&lt;int&gt;</th><th scope=col>&lt;dbl&gt;</th></tr>\n",
       "</thead>\n",
       "<tbody>\n",
       "\t<tr><td>1642</td><td>18</td><td>11</td><td>5</td><td>2</td><td>4418</td><td>0</td><td>29556</td><td>616632</td></tr>\n",
       "</tbody>\n",
       "</table>\n"
      ],
      "text/latex": [
       "A tibble: 1 × 9\n",
       "\\begin{tabular}{lllllllll}\n",
       " rows & columns & discrete\\_columns & continuous\\_columns & all\\_missing\\_columns & total\\_missing\\_values & complete\\_rows & total\\_observations & memory\\_usage\\\\\n",
       " <int> & <int> & <int> & <int> & <int> & <int> & <int> & <int> & <dbl>\\\\\n",
       "\\hline\n",
       "\t 1642 & 18 & 11 & 5 & 2 & 4418 & 0 & 29556 & 616632\\\\\n",
       "\\end{tabular}\n"
      ],
      "text/markdown": [
       "\n",
       "A tibble: 1 × 9\n",
       "\n",
       "| rows &lt;int&gt; | columns &lt;int&gt; | discrete_columns &lt;int&gt; | continuous_columns &lt;int&gt; | all_missing_columns &lt;int&gt; | total_missing_values &lt;int&gt; | complete_rows &lt;int&gt; | total_observations &lt;int&gt; | memory_usage &lt;dbl&gt; |\n",
       "|---|---|---|---|---|---|---|---|---|\n",
       "| 1642 | 18 | 11 | 5 | 2 | 4418 | 0 | 29556 | 616632 |\n",
       "\n"
      ],
      "text/plain": [
       "  rows columns discrete_columns continuous_columns all_missing_columns\n",
       "1 1642 18      11               5                  2                  \n",
       "  total_missing_values complete_rows total_observations memory_usage\n",
       "1 4418                 0             29556              616632      "
      ]
     },
     "metadata": {},
     "output_type": "display_data"
    }
   ],
   "source": [
    "introduce(invoice)"
   ]
  },
  {
   "cell_type": "code",
   "execution_count": 21,
   "metadata": {},
   "outputs": [
    {
     "data": {
      "image/png": "[encoded data removed]",
      "text/plain": [
       "plot without title"
      ]
     },
     "metadata": {
      "image/png": {
       "height": 420,
       "width": 420
      }
     },
     "output_type": "display_data"
    }
   ],
   "source": [
    "plot_intro(invoice)"
   ]
  },
  {
   "cell_type": "markdown",
   "metadata": {},
   "source": [
    "We noticed there is 14.9 % missing observations. The dataset is still significant to use."
   ]
  },
  {
   "cell_type": "markdown",
   "metadata": {},
   "source": [
    "#### **Analyzing Data**"
   ]
  },
  {
   "cell_type": "markdown",
   "metadata": {},
   "source": [
    "##### **1. Payment History by Customer ID**"
   ]
  },
  {
   "cell_type": "code",
   "execution_count": 23,
   "metadata": {},
   "outputs": [
    {
     "data": {
      "image/png": "[encoded data removed]",
      "text/plain": [
       "plot without title"
      ]
     },
     "metadata": {
      "image/png": {
       "height": 420,
       "width": 420
      }
     },
     "output_type": "display_data"
    }
   ],
   "source": [
    "invoice %>%\n",
    " filter(bcy_total >= 3193L & bcy_total <= 150000L | is.na(bcy_total)) %>%\n",
    " ggplot() +\n",
    "  aes(x = customer_id, fill = status, weight = bcy_total) +\n",
    "  geom_bar() +\n",
    "  scale_fill_manual(\n",
    "    values = c(draft = \"#F8F26D\",\n",
    "    overdue = \"#B44325\",\n",
    "    paid = \"#24EC20\",\n",
    "    sent = \"#FF6161\")\n",
    "  ) +\n",
    "  labs(\n",
    "    x = \"Customer ID\",\n",
    "    y = \"Count\",\n",
    "    title = \"Payment History by Customer Id\",\n",
    "    fill = \"Status\"\n",
    "  ) +\n",
    "  coord_flip() +\n",
    "  theme_classic() +\n",
    "  theme(\n",
    "    plot.title = element_text(size = 22L),\n",
    "    axis.title.y = element_text(size = 14L),\n",
    "    axis.title.x = element_text(size = 14L)\n",
    "  )"
   ]
  },
  {
   "cell_type": "markdown",
   "metadata": {},
   "source": [
    "There are some customer with bad payment history indicating in \"red\" as overdue and without paid history."
   ]
  },
  {
   "cell_type": "markdown",
   "metadata": {},
   "source": [
    "##### **2) Top 10 Paid History by Customer ID**"
   ]
  },
  {
   "cell_type": "code",
   "execution_count": 50,
   "metadata": {},
   "outputs": [
    {
     "name": "stdout",
     "output_type": "stream",
     "text": [
      "\u001b[90m# A tibble: 1,588 x 4\u001b[39m\n",
      "   customer_id        customer_name            bcy_total status\n",
      "   \u001b[3m\u001b[90m<chr>\u001b[39m\u001b[23m              \u001b[3m\u001b[90m<chr>\u001b[39m\u001b[23m                        \u001b[3m\u001b[90m<dbl>\u001b[39m\u001b[23m \u001b[3m\u001b[90m<chr>\u001b[39m\u001b[23m \n",
      "\u001b[90m 1\u001b[39m 449091000000318001 Karle Infra Pvt Ltd         \u001b[4m1\u001b[24m\u001b[4m5\u001b[24m\u001b[4m0\u001b[24m000 paid  \n",
      "\u001b[90m 2\u001b[39m 449091000001568322 Rathat Solutions Pvt Ltd     \u001b[4m6\u001b[24m\u001b[4m2\u001b[24m540 paid  \n",
      "\u001b[90m 3\u001b[39m 449091000001568322 Rathat Solutions Pvt Ltd     \u001b[4m6\u001b[24m\u001b[4m2\u001b[24m540 paid  \n",
      "\u001b[90m 4\u001b[39m 449091000001568322 Rathat Solutions Pvt Ltd     \u001b[4m5\u001b[24m\u001b[4m4\u001b[24m870 paid  \n",
      "\u001b[90m 5\u001b[39m 449091000001568322 Rathat Solutions Pvt Ltd     \u001b[4m4\u001b[24m\u001b[4m7\u001b[24m200 paid  \n",
      "\u001b[90m 6\u001b[39m 449091000001925599 Vikas Pratap Singh           \u001b[4m3\u001b[24m\u001b[4m0\u001b[24m749 paid  \n",
      "\u001b[90m 7\u001b[39m 449091000001941415 Deepa Shree                  \u001b[4m2\u001b[24m\u001b[4m5\u001b[24m533 paid  \n",
      "\u001b[90m 8\u001b[39m 449091000001778001 Bhartiya Urban Pvt Ltd       \u001b[4m2\u001b[24m\u001b[4m5\u001b[24m200 paid  \n",
      "\u001b[90m 9\u001b[39m 449091000001941415 Deepa Shree                  \u001b[4m1\u001b[24m\u001b[4m6\u001b[24m985 paid  \n",
      "\u001b[90m10\u001b[39m 449091000001945735 Deepti Krishna Pathak        \u001b[4m1\u001b[24m\u001b[4m6\u001b[24m304 paid  \n",
      "\u001b[90m# ... with 1,578 more rows\u001b[39m\n"
     ]
    }
   ],
   "source": [
    "paid_inv <- invoice %>% select(customer_id,customer_name,bcy_total,status) %>% arrange(desc(bcy_total)) %>% filter(status==\"paid\") \n",
    "paid_inv %>% print(n =10)"
   ]
  },
  {
   "cell_type": "markdown",
   "metadata": {},
   "source": [
    "##### **3. Top 10 Overdue History by Customer ID**"
   ]
  },
  {
   "cell_type": "code",
   "execution_count": 52,
   "metadata": {},
   "outputs": [
    {
     "name": "stdout",
     "output_type": "stream",
     "text": [
      "\u001b[90m# A tibble: 34 x 4\u001b[39m\n",
      "   customer_id        customer_name                          bcy_total status \n",
      "   \u001b[3m\u001b[90m<chr>\u001b[39m\u001b[23m              \u001b[3m\u001b[90m<chr>\u001b[39m\u001b[23m                                      \u001b[3m\u001b[90m<dbl>\u001b[39m\u001b[23m \u001b[3m\u001b[90m<chr>\u001b[39m\u001b[23m  \n",
      "\u001b[90m 1\u001b[39m 449091000001311036 Suman Industries Private Limited          \u001b[4m1\u001b[24m\u001b[4m0\u001b[24m\u001b[4m8\u001b[24m000 overdue\n",
      "\u001b[90m 2\u001b[39m 449091000001568322 Rathat Solutions Pvt Ltd                   \u001b[4m6\u001b[24m\u001b[4m2\u001b[24m540 overdue\n",
      "\u001b[90m 3\u001b[39m 449091000001153001 The Dreaming Tree                          \u001b[4m4\u001b[24m\u001b[4m3\u001b[24m870 overdue\n",
      "\u001b[90m 4\u001b[39m 449091000001654050 PawsnCollars Pvt Ltd                       \u001b[4m1\u001b[24m\u001b[4m9\u001b[24m774 overdue\n",
      "\u001b[90m 5\u001b[39m 449091000002513093 HIRINGBLUES TECHNOLOGY PRIVATE LIMITED      \u001b[4m8\u001b[24m560 overdue\n",
      "\u001b[90m 6\u001b[39m 449091000001949095 Jyotsnalata Kini                            \u001b[4m6\u001b[24m786 overdue\n",
      "\u001b[90m 7\u001b[39m 449091000001779033 Shilton Hospitality LLP                     \u001b[4m5\u001b[24m885 overdue\n",
      "\u001b[90m 8\u001b[39m 449091000001654050 PawsnCollars Pvt Ltd                        \u001b[4m4\u001b[24m740 overdue\n",
      "\u001b[90m 9\u001b[39m 449091000002378001 Karle Homes Pvt Ltd                         \u001b[4m4\u001b[24m536 overdue\n",
      "\u001b[90m10\u001b[39m 449091000001654050 PawsnCollars Pvt Ltd                        \u001b[4m4\u001b[24m315 overdue\n",
      "\u001b[90m# ... with 24 more rows\u001b[39m\n"
     ]
    }
   ],
   "source": [
    "overdue_inv <- invoice %>% select(customer_id,customer_name,bcy_total,status) %>% arrange(desc(bcy_total)) %>% filter(status==\"overdue\") \n",
    "overdue_inv %>% print(n=10)"
   ]
  },
  {
   "cell_type": "markdown",
   "metadata": {},
   "source": [
    "##### **4. Top 10 Draft History by Customer ID**"
   ]
  },
  {
   "cell_type": "code",
   "execution_count": 53,
   "metadata": {},
   "outputs": [
    {
     "name": "stdout",
     "output_type": "stream",
     "text": [
      "\u001b[90m# A tibble: 8 x 4\u001b[39m\n",
      "  customer_id        customer_name                    bcy_total status\n",
      "  \u001b[3m\u001b[90m<chr>\u001b[39m\u001b[23m              \u001b[3m\u001b[90m<chr>\u001b[39m\u001b[23m                                \u001b[3m\u001b[90m<dbl>\u001b[39m\u001b[23m \u001b[3m\u001b[90m<chr>\u001b[39m\u001b[23m \n",
      "\u001b[90m1\u001b[39m 449091000000318001 Karle Infra Pvt Ltd                 \u001b[4m1\u001b[24m\u001b[4m5\u001b[24m\u001b[4m0\u001b[24m000 draft \n",
      "\u001b[90m2\u001b[39m 449091000000318001 Karle Infra Pvt Ltd                  \u001b[4m5\u001b[24m\u001b[4m5\u001b[24m342 draft \n",
      "\u001b[90m3\u001b[39m 449091000002378001 Karle Homes Pvt Ltd                  \u001b[4m1\u001b[24m\u001b[4m2\u001b[24m130 draft \n",
      "\u001b[90m4\u001b[39m 449091000002378001 Karle Homes Pvt Ltd                   \u001b[4m7\u001b[24m788 draft \n",
      "\u001b[90m5\u001b[39m 449091000004085133 Wilder Mart Events                    \u001b[4m4\u001b[24m792 draft \n",
      "\u001b[90m6\u001b[39m 449091000002439083 Karle Lifestyle Ventures Pvt Ltd      \u001b[4m3\u001b[24m894 draft \n",
      "\u001b[90m7\u001b[39m 449091000002378001 Karle Homes Pvt Ltd                   \u001b[4m1\u001b[24m050 draft \n",
      "\u001b[90m8\u001b[39m 449091000003634707 Mrs. swetha                              0 draft \n"
     ]
    }
   ],
   "source": [
    "draft_inv <- invoice %>% select(customer_id,customer_name,bcy_total,status) %>% arrange(desc(bcy_total)) %>% filter(status==\"draft\") \n",
    "draft_inv %>% print(n=10)"
   ]
  },
  {
   "cell_type": "markdown",
   "metadata": {},
   "source": [
    "##### **5. Top 10 Sent History by Customer ID**"
   ]
  },
  {
   "cell_type": "code",
   "execution_count": 54,
   "metadata": {},
   "outputs": [
    {
     "name": "stdout",
     "output_type": "stream",
     "text": [
      "\u001b[90m# A tibble: 11 x 4\u001b[39m\n",
      "   customer_id        customer_name                     bcy_total status\n",
      "   \u001b[3m\u001b[90m<chr>\u001b[39m\u001b[23m              \u001b[3m\u001b[90m<chr>\u001b[39m\u001b[23m                                 \u001b[3m\u001b[90m<dbl>\u001b[39m\u001b[23m \u001b[3m\u001b[90m<chr>\u001b[39m\u001b[23m \n",
      "\u001b[90m 1\u001b[39m 449091000001915327 Shweta Thakur                          \u001b[4m2\u001b[24m390 sent  \n",
      "\u001b[90m 2\u001b[39m 449091000001654050 PawsnCollars Pvt Ltd                   \u001b[4m2\u001b[24m200 sent  \n",
      "\u001b[90m 3\u001b[39m 449091000001915327 Shweta Thakur                          \u001b[4m1\u001b[24m578 sent  \n",
      "\u001b[90m 4\u001b[39m 449091000001915327 Shweta Thakur                          \u001b[4m1\u001b[24m226 sent  \n",
      "\u001b[90m 5\u001b[39m 449091000003771918 ELEVEN CUNNINGHAM HOSPITALITY LLP      \u001b[4m1\u001b[24m140 sent  \n",
      "\u001b[90m 6\u001b[39m 449091000007524270 Supermarket, Prestige Glen Wood        \u001b[4m1\u001b[24m134 sent  \n",
      "\u001b[90m 7\u001b[39m 449091000002424002 Nisha Bihani                           \u001b[4m1\u001b[24m128 sent  \n",
      "\u001b[90m 8\u001b[39m 449091000003771918 ELEVEN CUNNINGHAM HOSPITALITY LLP       395 sent  \n",
      "\u001b[90m 9\u001b[39m 449091000001915327 Shweta Thakur                           285 sent  \n",
      "\u001b[90m10\u001b[39m 449091000001941175 Shital Mehta                            176 sent  \n",
      "\u001b[90m# ... with 1 more row\u001b[39m\n"
     ]
    }
   ],
   "source": [
    "sent_inv <- invoice %>% select(customer_id,customer_name,bcy_total,status) %>% arrange(desc(bcy_total)) %>% filter(status==\"sent\")\n",
    "sent_inv %>% print (n=10)"
   ]
  }
 ],
 "metadata": {
  "kernelspec": {
   "display_name": "R",
   "language": "R",
   "name": "ir"
  },
  "language_info": {
   "codemirror_mode": "r",
   "file_extension": ".r",
   "mimetype": "text/x-r-source",
   "name": "R",
   "pygments_lexer": "r",
   "version": "4.1.2"
  },
  "orig_nbformat": 4
 },
 "nbformat": 4,
 "nbformat_minor": 2
}
